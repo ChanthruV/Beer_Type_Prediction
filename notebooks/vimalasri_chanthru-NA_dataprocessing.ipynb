{
 "cells": [
  {
   "cell_type": "markdown",
   "metadata": {},
   "source": [
    "##  Load and explore the dataset"
   ]
  },
  {
   "cell_type": "code",
   "execution_count": 1,
   "metadata": {},
   "outputs": [],
   "source": [
    "# Load the pandas and numpy packages\n",
    "import pandas as pd\n",
    "import numpy as np"
   ]
  },
  {
   "cell_type": "code",
   "execution_count": 2,
   "metadata": {},
   "outputs": [],
   "source": [
    "# Import csv file and save into data\n",
    "df = pd.read_csv('../data/raw/beer_reviews.csv')"
   ]
  },
  {
   "cell_type": "code",
   "execution_count": 3,
   "metadata": {},
   "outputs": [
    {
     "data": {
      "text/html": [
       "<div>\n",
       "<style scoped>\n",
       "    .dataframe tbody tr th:only-of-type {\n",
       "        vertical-align: middle;\n",
       "    }\n",
       "\n",
       "    .dataframe tbody tr th {\n",
       "        vertical-align: top;\n",
       "    }\n",
       "\n",
       "    .dataframe thead th {\n",
       "        text-align: right;\n",
       "    }\n",
       "</style>\n",
       "<table border=\"1\" class=\"dataframe\">\n",
       "  <thead>\n",
       "    <tr style=\"text-align: right;\">\n",
       "      <th></th>\n",
       "      <th>brewery_id</th>\n",
       "      <th>brewery_name</th>\n",
       "      <th>review_time</th>\n",
       "      <th>review_overall</th>\n",
       "      <th>review_aroma</th>\n",
       "      <th>review_appearance</th>\n",
       "      <th>review_profilename</th>\n",
       "      <th>beer_style</th>\n",
       "      <th>review_palate</th>\n",
       "      <th>review_taste</th>\n",
       "      <th>beer_name</th>\n",
       "      <th>beer_abv</th>\n",
       "      <th>beer_beerid</th>\n",
       "    </tr>\n",
       "  </thead>\n",
       "  <tbody>\n",
       "    <tr>\n",
       "      <th>0</th>\n",
       "      <td>10325</td>\n",
       "      <td>Vecchio Birraio</td>\n",
       "      <td>1234817823</td>\n",
       "      <td>1.5</td>\n",
       "      <td>2.0</td>\n",
       "      <td>2.5</td>\n",
       "      <td>stcules</td>\n",
       "      <td>Hefeweizen</td>\n",
       "      <td>1.5</td>\n",
       "      <td>1.5</td>\n",
       "      <td>Sausa Weizen</td>\n",
       "      <td>5.0</td>\n",
       "      <td>47986</td>\n",
       "    </tr>\n",
       "    <tr>\n",
       "      <th>1</th>\n",
       "      <td>10325</td>\n",
       "      <td>Vecchio Birraio</td>\n",
       "      <td>1235915097</td>\n",
       "      <td>3.0</td>\n",
       "      <td>2.5</td>\n",
       "      <td>3.0</td>\n",
       "      <td>stcules</td>\n",
       "      <td>English Strong Ale</td>\n",
       "      <td>3.0</td>\n",
       "      <td>3.0</td>\n",
       "      <td>Red Moon</td>\n",
       "      <td>6.2</td>\n",
       "      <td>48213</td>\n",
       "    </tr>\n",
       "    <tr>\n",
       "      <th>2</th>\n",
       "      <td>10325</td>\n",
       "      <td>Vecchio Birraio</td>\n",
       "      <td>1235916604</td>\n",
       "      <td>3.0</td>\n",
       "      <td>2.5</td>\n",
       "      <td>3.0</td>\n",
       "      <td>stcules</td>\n",
       "      <td>Foreign / Export Stout</td>\n",
       "      <td>3.0</td>\n",
       "      <td>3.0</td>\n",
       "      <td>Black Horse Black Beer</td>\n",
       "      <td>6.5</td>\n",
       "      <td>48215</td>\n",
       "    </tr>\n",
       "    <tr>\n",
       "      <th>3</th>\n",
       "      <td>10325</td>\n",
       "      <td>Vecchio Birraio</td>\n",
       "      <td>1234725145</td>\n",
       "      <td>3.0</td>\n",
       "      <td>3.0</td>\n",
       "      <td>3.5</td>\n",
       "      <td>stcules</td>\n",
       "      <td>German Pilsener</td>\n",
       "      <td>2.5</td>\n",
       "      <td>3.0</td>\n",
       "      <td>Sausa Pils</td>\n",
       "      <td>5.0</td>\n",
       "      <td>47969</td>\n",
       "    </tr>\n",
       "    <tr>\n",
       "      <th>4</th>\n",
       "      <td>1075</td>\n",
       "      <td>Caldera Brewing Company</td>\n",
       "      <td>1293735206</td>\n",
       "      <td>4.0</td>\n",
       "      <td>4.5</td>\n",
       "      <td>4.0</td>\n",
       "      <td>johnmichaelsen</td>\n",
       "      <td>American Double / Imperial IPA</td>\n",
       "      <td>4.0</td>\n",
       "      <td>4.5</td>\n",
       "      <td>Cauldron DIPA</td>\n",
       "      <td>7.7</td>\n",
       "      <td>64883</td>\n",
       "    </tr>\n",
       "  </tbody>\n",
       "</table>\n",
       "</div>"
      ],
      "text/plain": [
       "   brewery_id             brewery_name  review_time  review_overall  \\\n",
       "0       10325          Vecchio Birraio   1234817823             1.5   \n",
       "1       10325          Vecchio Birraio   1235915097             3.0   \n",
       "2       10325          Vecchio Birraio   1235916604             3.0   \n",
       "3       10325          Vecchio Birraio   1234725145             3.0   \n",
       "4        1075  Caldera Brewing Company   1293735206             4.0   \n",
       "\n",
       "   review_aroma  review_appearance review_profilename  \\\n",
       "0           2.0                2.5            stcules   \n",
       "1           2.5                3.0            stcules   \n",
       "2           2.5                3.0            stcules   \n",
       "3           3.0                3.5            stcules   \n",
       "4           4.5                4.0     johnmichaelsen   \n",
       "\n",
       "                       beer_style  review_palate  review_taste  \\\n",
       "0                      Hefeweizen            1.5           1.5   \n",
       "1              English Strong Ale            3.0           3.0   \n",
       "2          Foreign / Export Stout            3.0           3.0   \n",
       "3                 German Pilsener            2.5           3.0   \n",
       "4  American Double / Imperial IPA            4.0           4.5   \n",
       "\n",
       "                beer_name  beer_abv  beer_beerid  \n",
       "0            Sausa Weizen       5.0        47986  \n",
       "1                Red Moon       6.2        48213  \n",
       "2  Black Horse Black Beer       6.5        48215  \n",
       "3              Sausa Pils       5.0        47969  \n",
       "4           Cauldron DIPA       7.7        64883  "
      ]
     },
     "execution_count": 3,
     "metadata": {},
     "output_type": "execute_result"
    }
   ],
   "source": [
    "# Display the first 5 rows of data and all the columns\n",
    "pd.options.display.max_rows\n",
    "df.head()"
   ]
  },
  {
   "attachments": {},
   "cell_type": "markdown",
   "metadata": {},
   "source": [
    "An initial review of the above data suggests that:\n",
    "1) There is a mix of numerical and categorical data.\n",
    "2) brewery_id is representative of the brewery_name.\n",
    "3) beer_beerid is representative of beer_name \n",
    "4) beer_beerid is a unique identifier"
   ]
  },
  {
   "cell_type": "code",
   "execution_count": 4,
   "metadata": {},
   "outputs": [
    {
     "name": "stdout",
     "output_type": "stream",
     "text": [
      "<class 'pandas.core.frame.DataFrame'>\n",
      "RangeIndex: 1586614 entries, 0 to 1586613\n",
      "Data columns (total 13 columns):\n",
      " #   Column              Non-Null Count    Dtype  \n",
      "---  ------              --------------    -----  \n",
      " 0   brewery_id          1586614 non-null  int64  \n",
      " 1   brewery_name        1586599 non-null  object \n",
      " 2   review_time         1586614 non-null  int64  \n",
      " 3   review_overall      1586614 non-null  float64\n",
      " 4   review_aroma        1586614 non-null  float64\n",
      " 5   review_appearance   1586614 non-null  float64\n",
      " 6   review_profilename  1586266 non-null  object \n",
      " 7   beer_style          1586614 non-null  object \n",
      " 8   review_palate       1586614 non-null  float64\n",
      " 9   review_taste        1586614 non-null  float64\n",
      " 10  beer_name           1586614 non-null  object \n",
      " 11  beer_abv            1518829 non-null  float64\n",
      " 12  beer_beerid         1586614 non-null  int64  \n",
      "dtypes: float64(6), int64(3), object(4)\n",
      "memory usage: 157.4+ MB\n"
     ]
    }
   ],
   "source": [
    "# Display the summary of columns\n",
    "df.info()"
   ]
  },
  {
   "attachments": {},
   "cell_type": "markdown",
   "metadata": {},
   "source": [
    "The above query confirms there is a mix of categorical and numerical data. All features with data type 'object' [brewery_name, review_profilename, beer_style and beer_name] are categorical with the remaining beyond numerical. All categorical features will need to be converted to numerical. There also seem to be some missing values. Let us investigate further."
   ]
  },
  {
   "cell_type": "code",
   "execution_count": 5,
   "metadata": {},
   "outputs": [
    {
     "data": {
      "text/plain": [
       "(1586614, 13)"
      ]
     },
     "execution_count": 5,
     "metadata": {},
     "output_type": "execute_result"
    }
   ],
   "source": [
    "# Display the dimensions(shape) of data\n",
    "df.shape"
   ]
  },
  {
   "attachments": {},
   "cell_type": "markdown",
   "metadata": {},
   "source": [
    "There should be 13 features with 1,586,614 observations each. "
   ]
  },
  {
   "cell_type": "code",
   "execution_count": 6,
   "metadata": {},
   "outputs": [
    {
     "data": {
      "text/plain": [
       "brewery_id                0\n",
       "brewery_name             15\n",
       "review_time               0\n",
       "review_overall            0\n",
       "review_aroma              0\n",
       "review_appearance         0\n",
       "review_profilename      348\n",
       "beer_style                0\n",
       "review_palate             0\n",
       "review_taste              0\n",
       "beer_name                 0\n",
       "beer_abv              67785\n",
       "beer_beerid               0\n",
       "dtype: int64"
      ]
     },
     "execution_count": 6,
     "metadata": {},
     "output_type": "execute_result"
    }
   ],
   "source": [
    "# Display number of missing values in each column\n",
    "df.isnull().sum()"
   ]
  },
  {
   "attachments": {},
   "cell_type": "markdown",
   "metadata": {},
   "source": [
    "We see there are three columns with missing values: [brewery_name],[review_profilename] and [beer_abv]. The number of missing values for [brewery_name] and [review_profilename] is insignificant and therefore we will remove them. [beer_abv] has approximately 4.2% of the data missing which is too large to simply remove. We will therefore replace these values with the mean from all other observations of the same feature."
   ]
  },
  {
   "cell_type": "code",
   "execution_count": 7,
   "metadata": {},
   "outputs": [],
   "source": [
    "# Display distribution of data for [beer_abv] to determine if median or mean if a more appropriate value to replace the missing values"
   ]
  },
  {
   "cell_type": "code",
   "execution_count": 8,
   "metadata": {},
   "outputs": [
    {
     "name": "stdout",
     "output_type": "stream",
     "text": [
      "brewery_id\n",
      "[10325  1075   163 ... 12566  7337  6102]\n",
      "brewery_name\n",
      "['Vecchio Birraio' 'Caldera Brewing Company' 'Amstel Brouwerij B. V.' ...\n",
      " 'Wissey Valley Brewery' 'Outback Brewery Pty Ltd'\n",
      " 'Georg Meinel Bierbrauerei KG']\n",
      "review_time\n",
      "[1234817823 1235915097 1235916604 ... 1160702513 1160023044 1160005319]\n",
      "review_overall\n",
      "[1.5 3.  4.  3.5 4.5 5.  2.  2.5 1.  0. ]\n",
      "review_aroma\n",
      "[2.  2.5 3.  4.5 3.5 5.  4.  1.5 1. ]\n",
      "review_appearance\n",
      "[2.5 3.  3.5 4.  5.  4.5 2.  1.  1.5 0. ]\n",
      "review_profilename\n",
      "['stcules' 'johnmichaelsen' 'oline73' ... 'hogshead' 'NyackNicky'\n",
      " 'joeebbs']\n",
      "beer_style\n",
      "['Hefeweizen' 'English Strong Ale' 'Foreign / Export Stout'\n",
      " 'German Pilsener' 'American Double / Imperial IPA' 'Herbed / Spiced Beer'\n",
      " 'Light Lager' 'Oatmeal Stout' 'American Pale Lager' 'Rauchbier'\n",
      " 'American Pale Ale (APA)' 'American Porter' 'Belgian Strong Dark Ale'\n",
      " 'American IPA' 'American Stout' 'Russian Imperial Stout'\n",
      " 'American Amber / Red Ale' 'American Strong Ale' 'Märzen / Oktoberfest'\n",
      " 'American Adjunct Lager' 'American Blonde Ale' 'Euro Pale Lager'\n",
      " 'English Brown Ale' 'Scotch Ale / Wee Heavy' 'Fruit / Vegetable Beer'\n",
      " 'American Double / Imperial Stout' 'Belgian Pale Ale' 'English Bitter'\n",
      " 'English Porter' 'Irish Dry Stout' 'American Barleywine'\n",
      " 'Belgian Strong Pale Ale' 'Doppelbock' 'Maibock / Helles Bock'\n",
      " 'Pumpkin Ale' 'Dortmunder / Export Lager' 'Euro Strong Lager'\n",
      " 'Euro Dark Lager' 'Low Alcohol Beer' 'Weizenbock'\n",
      " 'Extra Special / Strong Bitter (ESB)' 'Bock'\n",
      " 'English India Pale Ale (IPA)' 'Altbier' 'Kölsch' 'Munich Dunkel Lager'\n",
      " 'Rye Beer' 'American Pale Wheat Ale' 'Milk / Sweet Stout' 'Schwarzbier'\n",
      " 'Vienna Lager' 'American Amber / Red Lager' 'Scottish Ale' 'Witbier'\n",
      " 'American Black Ale' 'Saison / Farmhouse Ale' 'English Barleywine'\n",
      " 'English Dark Mild Ale' 'California Common / Steam Beer' 'Czech Pilsener'\n",
      " 'English Pale Ale' 'Belgian IPA' 'Tripel' 'Flanders Oud Bruin'\n",
      " 'American Brown Ale' 'Winter Warmer' 'Smoked Beer' 'Dubbel'\n",
      " 'Flanders Red Ale' 'Dunkelweizen' 'Roggenbier'\n",
      " 'Keller Bier / Zwickel Bier' 'Belgian Dark Ale' 'Bière de Garde'\n",
      " 'Japanese Rice Lager' 'Black & Tan' 'Irish Red Ale' 'Chile Beer'\n",
      " 'English Stout' 'Cream Ale' 'American Wild Ale'\n",
      " 'American Double / Imperial Pilsner'\n",
      " 'Scottish Gruit / Ancient Herbed Ale' 'Wheatwine'\n",
      " 'American Dark Wheat Ale' 'American Malt Liquor' 'Baltic Porter'\n",
      " 'Munich Helles Lager' 'Kristalweizen' 'English Pale Mild Ale'\n",
      " 'Lambic - Fruit' 'Old Ale' 'Quadrupel (Quad)' 'Braggot'\n",
      " 'Lambic - Unblended' 'Eisbock' 'Berliner Weissbier' 'Kvass' 'Faro'\n",
      " 'Gueuze' 'Gose' 'Happoshu' 'Sahti' 'Bière de Champagne / Bière Brut']\n",
      "review_palate\n",
      "[1.5 3.  2.5 4.  2.  3.5 4.5 5.  1. ]\n",
      "review_taste\n",
      "[1.5 3.  4.5 3.5 4.  2.5 2.  5.  1. ]\n",
      "beer_name\n",
      "['Sausa Weizen' 'Red Moon' 'Black Horse Black Beer' ... 'Baron Von Weizen'\n",
      " 'Resolution #2' \"The Horseman's Ale\"]\n",
      "beer_abv\n",
      "[5.000e+00 6.200e+00 6.500e+00 7.700e+00 4.700e+00 3.500e+00 7.200e+00\n",
      " 5.600e+00 7.400e+00 5.500e+00 5.800e+00 8.100e+00 6.100e+00       nan\n",
      " 8.800e+00 5.700e+00 7.000e+00 6.300e+00 3.900e+00 6.700e+00 6.000e+00\n",
      " 6.800e+00 5.400e+00 9.500e+00 4.800e+00 5.200e+00 9.400e+00 7.600e+00\n",
      " 8.500e+00 4.000e+00 4.500e+00 4.200e+00 9.000e+00 8.000e+00 4.100e+00\n",
      " 1.040e+01 5.100e+00 1.000e+01 3.800e+00 7.100e+00 4.600e+00 7.500e+00\n",
      " 1.000e-01 8.400e+00 4.400e+00 4.900e+00 2.200e+00 2.800e+00 5.300e+00\n",
      " 1.050e+01 9.800e+00 5.900e+00 1.200e+01 4.300e+00 5.790e+00 4.190e+00\n",
      " 8.600e+00 1.090e+01 6.600e+00 9.300e+00 8.850e+00 8.300e+00 8.700e+00\n",
      " 7.250e+00 3.750e+00 3.100e+00 5.250e+00 4.370e+00 1.110e+01 6.400e+00\n",
      " 1.100e+01 5.000e-01 8.200e+00 1.130e+01 7.800e+00 6.900e+00 1.300e+01\n",
      " 5.750e+00 4.750e+00 9.200e+00 1.500e+00 3.000e+00 3.700e+00 7.900e+00\n",
      " 9.900e+00 8.900e+00 7.300e+00 2.500e+00 1.400e+01 1.500e+01 1.150e+01\n",
      " 7.820e+00 1.025e+01 1.600e+01 1.010e+01 3.200e+00 3.400e+00 3.600e+00\n",
      " 3.086e+01 5.770e+01 3.944e+01 4.300e+01 9.700e+00 8.250e+00 6.320e+00\n",
      " 1.250e+01 1.280e+01 1.190e+01 1.260e+01 1.075e+01 9.600e+00 7.750e+00\n",
      " 1.060e+01 1.020e+01 1.120e+01 9.100e+00 1.030e+01 6.250e+00 1.080e+01\n",
      " 1.290e+01 5.470e+00 5.590e+00 5.110e+00 7.260e+00 2.400e+00 1.450e+01\n",
      " 4.550e+00 1.550e+01 4.250e+00 1.430e+01 3.300e+00 2.000e+00 1.170e+01\n",
      " 1.160e+01 1.210e+01 1.270e+01 1.200e+00 1.470e+01 1.820e+01 1.950e+01\n",
      " 1.830e+01 1.700e+01 1.850e+01 6.660e+00 1.410e+01 5.140e+00 2.750e+00\n",
      " 4.530e+00 8.410e+00 7.850e+00 1.225e+01 1.230e+01 6.750e+00 7.770e+00\n",
      " 1.003e+01 1.028e+01 7.170e+00 2.700e+00 1.400e+00 2.900e+00 3.440e+00\n",
      " 5.000e-02 4.620e+00 4.950e+00 3.950e+00 1.125e+01 5.610e+00 1.840e+01\n",
      " 6.450e+00 1.070e+01 4.770e+00 7.370e+00 8.750e+00 9.960e+00 1.140e+01\n",
      " 1.000e+00 9.000e-01 5.720e+00 6.950e+00 3.250e+00 2.600e+00 4.140e+00\n",
      " 5.950e+00 7.150e+00 5.870e+00 5.410e+00 5.530e+00 5.620e+00 1.180e+01\n",
      " 6.850e+00 5.350e+00 7.390e+00 9.750e+00 9.250e+00 5.650e+00 5.680e+00\n",
      " 5.290e+00 1.350e+01 6.080e+00 5.570e+00 7.520e+00 1.220e+01 1.800e+01\n",
      " 4.450e+00 4.650e+00 1.920e+01 1.630e+01 1.320e+01 1.750e+01 1.000e-02\n",
      " 5.450e+00 2.100e+01 2.500e+01 4.350e+00 2.700e+01 2.400e+01 5.010e+00\n",
      " 4.740e+00 4.630e+00 3.790e+00 4.940e+00 4.780e+00 4.280e+00 9.780e+00\n",
      " 4.720e+00 7.230e+00 5.930e+00 1.800e+00 3.880e+00 4.730e+00 1.240e+01\n",
      " 2.100e+00 5.860e+00 4.000e-01 2.160e+00 4.850e+00 5.630e+00 5.380e+00\n",
      " 5.240e+00 5.150e+00 4.660e+00 3.650e+00 1.510e+01 5.970e+00 3.670e+00\n",
      " 4.130e+00 1.165e+01 1.098e+01 6.550e+00 9.990e+00 5.360e+00 1.115e+01\n",
      " 1.390e+01 3.000e-01 5.780e+00 1.610e+01 5.270e+00 4.150e+00 5.430e+00\n",
      " 5.690e+00 5.540e+00 6.820e+00 4.460e+00 6.150e+00 6.710e+00 1.650e+01\n",
      " 1.330e+01 7.130e+00 5.560e+00 1.001e+01 1.017e+01 1.370e+01 5.120e+00\n",
      " 4.810e+00 1.360e+01 4.860e+00 1.490e+01 5.190e+00 6.330e+00 6.310e+00\n",
      " 7.710e+00 4.160e+00 7.450e+00 7.330e+00 5.880e+00 6.240e+00 5.940e+00\n",
      " 5.820e+00 6.070e+00 5.280e+00 6.870e+00 2.500e-01 2.200e+01 5.130e+00\n",
      " 4.880e+00 6.130e+00 5.980e+00 3.710e+00 5.330e+00 5.180e+00 6.270e+00\n",
      " 9.040e+00 5.740e+00 1.340e+01 1.159e+01 6.230e+00 6.670e+00 1.175e+01\n",
      " 5.050e+00 1.680e+01 9.230e+00 7.680e+00 5.310e+00 1.683e+01 4.380e+00\n",
      " 8.690e+00 8.720e+00 8.590e+00 5.460e+00 8.650e+00 6.880e+00 7.690e+00\n",
      " 1.008e+01 1.103e+01 1.645e+01 1.603e+01 9.460e+00 1.810e+01 1.543e+01\n",
      " 9.540e+00 8.120e+00 9.910e+00 1.590e+01 9.730e+00 9.620e+00 5.810e+00\n",
      " 6.380e+00 5.170e+00 4.260e+00 5.160e+00 1.937e+01 2.300e+00 5.420e+00\n",
      " 1.013e+01 5.520e+00 4.960e+00 5.510e+00 6.290e+00 3.540e+00 1.141e+01\n",
      " 9.850e+00 7.790e+00 7.570e+00 5.550e+00 1.014e+01 6.350e+00 4.100e+01\n",
      " 2.800e+01 3.200e+01 1.027e+01 1.720e+01 5.730e+00 8.240e+00 5.670e+00\n",
      " 9.710e+00 8.270e+00 8.190e+00 1.104e+01 5.340e+00 7.080e+00 8.970e+00\n",
      " 6.140e+00 4.320e+00 3.990e+00 2.920e+00 4.080e+00 7.580e+00 6.980e+00\n",
      " 6.770e+00 4.340e+00 4.330e+00 1.380e+01 6.190e+00 4.640e+00 4.390e+00\n",
      " 1.310e+01 5.910e+00 1.212e+01 1.502e+01 1.199e+01 9.390e+00 3.930e+00\n",
      " 9.440e+00 1.006e+01 7.480e+00 1.126e+01 1.058e+01 8.660e+00 4.870e+00\n",
      " 4.970e+00 5.640e+00 6.560e+00 7.090e+00 5.990e+00 4.290e+00 2.600e+01\n",
      " 3.900e+01 9.050e+00 2.250e+00 4.010e+00 4.980e+00 4.890e+00 1.031e+01\n",
      " 4.500e-01 1.735e+01 4.590e+00 7.000e-01 4.790e+00 9.180e+00 1.740e+01\n",
      " 1.640e+01 1.520e+01 1.620e+01 2.900e+01 8.030e+00 8.550e+00 8.080e+00\n",
      " 4.580e+00 7.430e+00 7.510e+00 6.180e+00 5.090e+00 4.560e+00 4.410e+00\n",
      " 9.350e+00 4.990e+00 6.780e+00 9.610e+00 4.910e+00 6.040e+00 4.670e+00\n",
      " 4.830e+00 5.040e+00 7.880e+00 6.090e+00 7.670e+00 4.310e+00 3.130e+00\n",
      " 1.076e+01 5.850e+00 4.480e+00 3.610e+00 9.740e+00 6.650e+00 4.170e+00\n",
      " 1.043e+01 5.060e+00 5.890e+00 6.830e+00 7.920e+00 7.240e+00 8.060e+00\n",
      " 8.330e+00 1.167e+01 8.880e+00 4.510e+00 1.504e+01 9.150e+00 2.000e+01\n",
      " 5.320e+00 4.440e+00 5.390e+00 6.720e+00 6.210e+00 5.830e+00 6.590e+00\n",
      " 5.480e+00 6.860e+00 6.420e+00 8.000e-01 8.340e+00 1.690e+01 1.316e+01\n",
      " 5.210e+00 5.070e+00 8.470e+00 8.170e+00 1.101e+01 7.610e+00 7.070e+00\n",
      " 4.760e+00 8.020e+00 8.000e-02 7.620e+00 7.740e+00 7.830e+00 6.110e+00\n",
      " 3.530e+00 8.740e+00 9.280e+00 5.770e+00 1.700e+00 4.060e+00 4.680e+00\n",
      " 7.210e+00 2.192e+01 1.460e+01 1.560e+01 1.530e+01 7.870e+00 5.580e+00\n",
      " 5.230e+00 8.350e+00 1.900e+00 1.325e+01 5.440e+00 5.020e+00 4.470e+00\n",
      " 7.990e+00 7.350e+00 6.610e+00 6.580e+00 8.210e+00 1.250e+00 8.670e+00\n",
      " 3.220e+00 8.260e+00 1.300e+00 4.690e+00 1.037e+01 1.024e+01]\n",
      "beer_beerid\n",
      "[47986 48213 48215 ... 48360 43233 33061]\n"
     ]
    }
   ],
   "source": [
    "#Create a for loop that will iterate through each columns and print their list of unique values\n",
    "for col in df.columns:\n",
    "  print(col)\n",
    "  print(df[col].unique())"
   ]
  },
  {
   "attachments": {},
   "cell_type": "markdown",
   "metadata": {},
   "source": [
    "We see the categorical variables [brewery_name, review_profilename, beer_style and beer_name] are all nominal (without order) and thus should be encoded to numeric with One Hot Encoding. However to avoid the creation of multiple columns for the target variable, we will label encode [beer_style] instead. "
   ]
  },
  {
   "cell_type": "code",
   "execution_count": 9,
   "metadata": {},
   "outputs": [
    {
     "name": "stdout",
     "output_type": "stream",
     "text": [
      "No.of.unique values : 66055\n"
     ]
    }
   ],
   "source": [
    "#Determine if beer_beer_id is a unique identifier\n",
    "\n",
    "n = len(pd.unique(df['beer_beerid']))\n",
    "  \n",
    "print(\"No.of.unique values :\", \n",
    "      n)"
   ]
  },
  {
   "attachments": {},
   "cell_type": "markdown",
   "metadata": {},
   "source": [
    "We see the number of unique values for beer_beer_id does not match the number of rows in the dataset (1586614) and therefore we can rule out it being a unique identifier.\n"
   ]
  },
  {
   "cell_type": "code",
   "execution_count": 10,
   "metadata": {},
   "outputs": [
    {
     "data": {
      "text/html": [
       "<div>\n",
       "<style scoped>\n",
       "    .dataframe tbody tr th:only-of-type {\n",
       "        vertical-align: middle;\n",
       "    }\n",
       "\n",
       "    .dataframe tbody tr th {\n",
       "        vertical-align: top;\n",
       "    }\n",
       "\n",
       "    .dataframe thead th {\n",
       "        text-align: right;\n",
       "    }\n",
       "</style>\n",
       "<table border=\"1\" class=\"dataframe\">\n",
       "  <thead>\n",
       "    <tr style=\"text-align: right;\">\n",
       "      <th></th>\n",
       "      <th>brewery_id</th>\n",
       "      <th>review_time</th>\n",
       "      <th>review_overall</th>\n",
       "      <th>review_aroma</th>\n",
       "      <th>review_appearance</th>\n",
       "      <th>review_palate</th>\n",
       "      <th>review_taste</th>\n",
       "      <th>beer_abv</th>\n",
       "      <th>beer_beerid</th>\n",
       "    </tr>\n",
       "  </thead>\n",
       "  <tbody>\n",
       "    <tr>\n",
       "      <th>count</th>\n",
       "      <td>1.586614e+06</td>\n",
       "      <td>1.586614e+06</td>\n",
       "      <td>1.586614e+06</td>\n",
       "      <td>1.586614e+06</td>\n",
       "      <td>1.586614e+06</td>\n",
       "      <td>1.586614e+06</td>\n",
       "      <td>1.586614e+06</td>\n",
       "      <td>1.518829e+06</td>\n",
       "      <td>1.586614e+06</td>\n",
       "    </tr>\n",
       "    <tr>\n",
       "      <th>mean</th>\n",
       "      <td>3.130099e+03</td>\n",
       "      <td>1.224089e+09</td>\n",
       "      <td>3.815581e+00</td>\n",
       "      <td>3.735636e+00</td>\n",
       "      <td>3.841642e+00</td>\n",
       "      <td>3.743701e+00</td>\n",
       "      <td>3.792860e+00</td>\n",
       "      <td>7.042387e+00</td>\n",
       "      <td>2.171279e+04</td>\n",
       "    </tr>\n",
       "    <tr>\n",
       "      <th>std</th>\n",
       "      <td>5.578104e+03</td>\n",
       "      <td>7.654427e+07</td>\n",
       "      <td>7.206219e-01</td>\n",
       "      <td>6.976167e-01</td>\n",
       "      <td>6.160928e-01</td>\n",
       "      <td>6.822184e-01</td>\n",
       "      <td>7.319696e-01</td>\n",
       "      <td>2.322526e+00</td>\n",
       "      <td>2.181834e+04</td>\n",
       "    </tr>\n",
       "    <tr>\n",
       "      <th>min</th>\n",
       "      <td>1.000000e+00</td>\n",
       "      <td>8.406720e+08</td>\n",
       "      <td>0.000000e+00</td>\n",
       "      <td>1.000000e+00</td>\n",
       "      <td>0.000000e+00</td>\n",
       "      <td>1.000000e+00</td>\n",
       "      <td>1.000000e+00</td>\n",
       "      <td>1.000000e-02</td>\n",
       "      <td>3.000000e+00</td>\n",
       "    </tr>\n",
       "    <tr>\n",
       "      <th>25%</th>\n",
       "      <td>1.430000e+02</td>\n",
       "      <td>1.173224e+09</td>\n",
       "      <td>3.500000e+00</td>\n",
       "      <td>3.500000e+00</td>\n",
       "      <td>3.500000e+00</td>\n",
       "      <td>3.500000e+00</td>\n",
       "      <td>3.500000e+00</td>\n",
       "      <td>5.200000e+00</td>\n",
       "      <td>1.717000e+03</td>\n",
       "    </tr>\n",
       "    <tr>\n",
       "      <th>50%</th>\n",
       "      <td>4.290000e+02</td>\n",
       "      <td>1.239203e+09</td>\n",
       "      <td>4.000000e+00</td>\n",
       "      <td>4.000000e+00</td>\n",
       "      <td>4.000000e+00</td>\n",
       "      <td>4.000000e+00</td>\n",
       "      <td>4.000000e+00</td>\n",
       "      <td>6.500000e+00</td>\n",
       "      <td>1.390600e+04</td>\n",
       "    </tr>\n",
       "    <tr>\n",
       "      <th>75%</th>\n",
       "      <td>2.372000e+03</td>\n",
       "      <td>1.288568e+09</td>\n",
       "      <td>4.500000e+00</td>\n",
       "      <td>4.000000e+00</td>\n",
       "      <td>4.000000e+00</td>\n",
       "      <td>4.000000e+00</td>\n",
       "      <td>4.500000e+00</td>\n",
       "      <td>8.500000e+00</td>\n",
       "      <td>3.944100e+04</td>\n",
       "    </tr>\n",
       "    <tr>\n",
       "      <th>max</th>\n",
       "      <td>2.800300e+04</td>\n",
       "      <td>1.326285e+09</td>\n",
       "      <td>5.000000e+00</td>\n",
       "      <td>5.000000e+00</td>\n",
       "      <td>5.000000e+00</td>\n",
       "      <td>5.000000e+00</td>\n",
       "      <td>5.000000e+00</td>\n",
       "      <td>5.770000e+01</td>\n",
       "      <td>7.731700e+04</td>\n",
       "    </tr>\n",
       "  </tbody>\n",
       "</table>\n",
       "</div>"
      ],
      "text/plain": [
       "         brewery_id   review_time  review_overall  review_aroma  \\\n",
       "count  1.586614e+06  1.586614e+06    1.586614e+06  1.586614e+06   \n",
       "mean   3.130099e+03  1.224089e+09    3.815581e+00  3.735636e+00   \n",
       "std    5.578104e+03  7.654427e+07    7.206219e-01  6.976167e-01   \n",
       "min    1.000000e+00  8.406720e+08    0.000000e+00  1.000000e+00   \n",
       "25%    1.430000e+02  1.173224e+09    3.500000e+00  3.500000e+00   \n",
       "50%    4.290000e+02  1.239203e+09    4.000000e+00  4.000000e+00   \n",
       "75%    2.372000e+03  1.288568e+09    4.500000e+00  4.000000e+00   \n",
       "max    2.800300e+04  1.326285e+09    5.000000e+00  5.000000e+00   \n",
       "\n",
       "       review_appearance  review_palate  review_taste      beer_abv  \\\n",
       "count       1.586614e+06   1.586614e+06  1.586614e+06  1.518829e+06   \n",
       "mean        3.841642e+00   3.743701e+00  3.792860e+00  7.042387e+00   \n",
       "std         6.160928e-01   6.822184e-01  7.319696e-01  2.322526e+00   \n",
       "min         0.000000e+00   1.000000e+00  1.000000e+00  1.000000e-02   \n",
       "25%         3.500000e+00   3.500000e+00  3.500000e+00  5.200000e+00   \n",
       "50%         4.000000e+00   4.000000e+00  4.000000e+00  6.500000e+00   \n",
       "75%         4.000000e+00   4.000000e+00  4.500000e+00  8.500000e+00   \n",
       "max         5.000000e+00   5.000000e+00  5.000000e+00  5.770000e+01   \n",
       "\n",
       "        beer_beerid  \n",
       "count  1.586614e+06  \n",
       "mean   2.171279e+04  \n",
       "std    2.181834e+04  \n",
       "min    3.000000e+00  \n",
       "25%    1.717000e+03  \n",
       "50%    1.390600e+04  \n",
       "75%    3.944100e+04  \n",
       "max    7.731700e+04  "
      ]
     },
     "execution_count": 10,
     "metadata": {},
     "output_type": "execute_result"
    }
   ],
   "source": [
    "# Display the descriptive statistics\n",
    "df.describe()"
   ]
  },
  {
   "attachments": {},
   "cell_type": "markdown",
   "metadata": {},
   "source": [
    "Values for all features seem valid. Review scores range between 0 and 5, there are no negative values and all minimum and maximum values align with logical expectations given the context of the data."
   ]
  },
  {
   "attachments": {},
   "cell_type": "markdown",
   "metadata": {},
   "source": [
    "##### Data Preparation"
   ]
  },
  {
   "cell_type": "code",
   "execution_count": 11,
   "metadata": {},
   "outputs": [],
   "source": [
    "#Create a copy of df and save it into a variable called df_cleaned\n",
    "\n",
    "df_cleaned = df.copy()"
   ]
  },
  {
   "cell_type": "code",
   "execution_count": 12,
   "metadata": {},
   "outputs": [],
   "source": [
    "#Remove missing values for 'brewery_name' and 'review_profilename' \n",
    "df_cleaned = df_cleaned.dropna(how='any',subset=['brewery_name', 'review_profilename'])"
   ]
  },
  {
   "cell_type": "code",
   "execution_count": 13,
   "metadata": {},
   "outputs": [],
   "source": [
    "# Replace missing value in 'beer_abv' with its mean\n",
    "beer_abv_mean = df_cleaned['beer_abv'].mean()\n",
    "df_cleaned['beer_abv'] = df_cleaned['beer_abv'].fillna(beer_abv_mean)"
   ]
  },
  {
   "cell_type": "code",
   "execution_count": 14,
   "metadata": {},
   "outputs": [
    {
     "data": {
      "text/plain": [
       "(1586251, 13)"
      ]
     },
     "execution_count": 14,
     "metadata": {},
     "output_type": "execute_result"
    }
   ],
   "source": [
    "df_cleaned.shape"
   ]
  },
  {
   "cell_type": "code",
   "execution_count": 15,
   "metadata": {},
   "outputs": [
    {
     "data": {
      "text/plain": [
       "brewery_id            0\n",
       "brewery_name          0\n",
       "review_time           0\n",
       "review_overall        0\n",
       "review_aroma          0\n",
       "review_appearance     0\n",
       "review_profilename    0\n",
       "beer_style            0\n",
       "review_palate         0\n",
       "review_taste          0\n",
       "beer_name             0\n",
       "beer_abv              0\n",
       "beer_beerid           0\n",
       "dtype: int64"
      ]
     },
     "execution_count": 15,
     "metadata": {},
     "output_type": "execute_result"
    }
   ],
   "source": [
    "# Display number of missing values in each column\n",
    "df_cleaned.isnull().sum()"
   ]
  },
  {
   "attachments": {},
   "cell_type": "markdown",
   "metadata": {},
   "source": [
    "No missing values remain. "
   ]
  },
  {
   "cell_type": "code",
   "execution_count": 16,
   "metadata": {},
   "outputs": [
    {
     "data": {
      "text/plain": [
       "0"
      ]
     },
     "execution_count": 16,
     "metadata": {},
     "output_type": "execute_result"
    }
   ],
   "source": [
    "# Check the whether there are duplicate rows\n",
    "sum(df_cleaned.duplicated())"
   ]
  },
  {
   "attachments": {},
   "cell_type": "markdown",
   "metadata": {},
   "source": [
    "##### Encoding Categorical Variables"
   ]
  },
  {
   "cell_type": "code",
   "execution_count": 17,
   "metadata": {},
   "outputs": [
    {
     "name": "stdout",
     "output_type": "stream",
     "text": [
      "No.of.unique values 'brewery_name' : 5742\n",
      "No.of.unique values 'review_profilename' : 33387\n",
      "No.of.unique values 'beer_style' : 104\n",
      "No.of.unique values 'beer_name' : 56847\n"
     ]
    }
   ],
   "source": [
    "#Check number of unique values for all categorical variables\n",
    "\n",
    "n1 = len(pd.unique(df_cleaned['brewery_name']))\n",
    "  \n",
    "print(\"No.of.unique values 'brewery_name' :\", \n",
    "      n1)\n",
    "\n",
    "n2 = len(pd.unique(df_cleaned['review_profilename']))\n",
    "  \n",
    "print(\"No.of.unique values 'review_profilename' :\", \n",
    "      n2)\n",
    "\n",
    "n3 = len(pd.unique(df_cleaned['beer_style']))\n",
    "  \n",
    "print(\"No.of.unique values 'beer_style' :\", \n",
    "      n3)\n",
    "\n",
    "n4 = len(pd.unique(df_cleaned['beer_name']))\n",
    "  \n",
    "print(\"No.of.unique values 'beer_name' :\", \n",
    "      n4)"
   ]
  },
  {
   "attachments": {},
   "cell_type": "markdown",
   "metadata": {},
   "source": [
    "[brewery_name, review_profilename and beer_name] in particular have excessive unique values and thus are not suited for one hot encoding. [beer_style] is the target variable. If we perform one hot encoding it will create multiple columns for the single feature which we want to avoid in this case. Therefore we shall label encode instead as an alternative measure. "
   ]
  },
  {
   "attachments": {},
   "cell_type": "markdown",
   "metadata": {},
   "source": [
    "##### Data Preparation"
   ]
  },
  {
   "cell_type": "code",
   "execution_count": 18,
   "metadata": {},
   "outputs": [
    {
     "data": {
      "text/plain": [
       "0.7680872600393038"
      ]
     },
     "execution_count": 18,
     "metadata": {},
     "output_type": "execute_result"
    }
   ],
   "source": [
    "n = 40 #Top 40 classes by frequency for target variable. Change to 104 for results with all classes included. \n",
    "df_cleaned['beer_style'].value_counts()[:n].sum()/1586614"
   ]
  },
  {
   "cell_type": "code",
   "execution_count": 19,
   "metadata": {},
   "outputs": [
    {
     "data": {
      "text/plain": [
       "American IPA                           117566\n",
       "American Double / Imperial IPA          85958\n",
       "American Pale Ale (APA)                 63460\n",
       "Russian Imperial Stout                  54120\n",
       "American Double / Imperial Stout        50696\n",
       "American Porter                         50473\n",
       "American Amber / Red Ale                45740\n",
       "Belgian Strong Dark Ale                 37731\n",
       "Fruit / Vegetable Beer                  33859\n",
       "American Strong Ale                     31938\n",
       "Belgian Strong Pale Ale                 31486\n",
       "Saison / Farmhouse Ale                  31475\n",
       "American Adjunct Lager                  30733\n",
       "Tripel                                  30319\n",
       "Witbier                                 30131\n",
       "Hefeweizen                              27901\n",
       "American Barleywine                     26721\n",
       "American Brown Ale                      25291\n",
       "American Stout                          24533\n",
       "American Pale Wheat Ale                 24201\n",
       "Märzen / Oktoberfest                    23521\n",
       "English Pale Ale                        23376\n",
       "German Pilsener                         22146\n",
       "Doppelbock                              21695\n",
       "Winter Warmer                           20656\n",
       "Dubbel                                  19979\n",
       "English Brown Ale                       19528\n",
       "Belgian Pale Ale                        19350\n",
       "Oatmeal Stout                           18140\n",
       "Quadrupel (Quad)                        18084\n",
       "Euro Pale Lager                         18005\n",
       "American Wild Ale                       17794\n",
       "Scotch Ale / Wee Heavy                  17438\n",
       "Extra Special / Strong Bitter (ESB)     17206\n",
       "English India Pale Ale (IPA)            15955\n",
       "Pumpkin Ale                             15548\n",
       "Old Ale                                 14701\n",
       "Light Lager                             14308\n",
       "English Barleywine                      13730\n",
       "Milk / Sweet Stout                      13166\n",
       "Name: beer_style, dtype: int64"
      ]
     },
     "execution_count": 19,
     "metadata": {},
     "output_type": "execute_result"
    }
   ],
   "source": [
    "n = 40  #Top 40 classes by frequency for target variable. Change to 104 for results with all classes included. \n",
    "df_cleaned['beer_style'].value_counts()[:n]"
   ]
  },
  {
   "cell_type": "code",
   "execution_count": 20,
   "metadata": {},
   "outputs": [
    {
     "data": {
      "text/plain": [
       "<AxesSubplot: >"
      ]
     },
     "execution_count": 20,
     "metadata": {},
     "output_type": "execute_result"
    },
    {
     "data": {
      "image/png": "[encoded data removed]",
      "text/plain": [
       "<Figure size 640x480 with 1 Axes>"
      ]
     },
     "metadata": {},
     "output_type": "display_data"
    }
   ],
   "source": [
    "import matplotlib.pyplot as plt\n",
    "\n",
    "\n",
    "df_cleaned['beer_style'].hist(grid=False, xlabelsize=4, xrot=90, bins=104)"
   ]
  },
  {
   "attachments": {},
   "cell_type": "markdown",
   "metadata": {},
   "source": [
    "The frequency of data is clearly quite skewed with some unique values in the target variable accounting for a much larger portion of the dataset. Let us limit the classes to the top 40 by frequency."
   ]
  },
  {
   "cell_type": "code",
   "execution_count": 21,
   "metadata": {},
   "outputs": [],
   "source": [
    "threshold = 13165  # Remove items less than or equal to threshold which is p-1 where p is the number of values for the 30th most frequent unique value in 'beer_style'. Change to 0 for results with all 104 classes.\n",
    "for col in df.columns:\n",
    "    value_counts = df_cleaned['beer_style'].value_counts() # Specific column \n",
    "    to_remove = value_counts[value_counts <= threshold].index\n",
    "    df_cleaned['beer_style'].replace(to_remove, np.nan, inplace=True)"
   ]
  },
  {
   "cell_type": "code",
   "execution_count": 22,
   "metadata": {},
   "outputs": [
    {
     "data": {
      "text/plain": [
       "American IPA                           117566\n",
       "American Double / Imperial IPA          85958\n",
       "American Pale Ale (APA)                 63460\n",
       "Russian Imperial Stout                  54120\n",
       "American Double / Imperial Stout        50696\n",
       "American Porter                         50473\n",
       "American Amber / Red Ale                45740\n",
       "Belgian Strong Dark Ale                 37731\n",
       "Fruit / Vegetable Beer                  33859\n",
       "American Strong Ale                     31938\n",
       "Belgian Strong Pale Ale                 31486\n",
       "Saison / Farmhouse Ale                  31475\n",
       "American Adjunct Lager                  30733\n",
       "Tripel                                  30319\n",
       "Witbier                                 30131\n",
       "Hefeweizen                              27901\n",
       "American Barleywine                     26721\n",
       "American Brown Ale                      25291\n",
       "American Stout                          24533\n",
       "American Pale Wheat Ale                 24201\n",
       "Märzen / Oktoberfest                    23521\n",
       "English Pale Ale                        23376\n",
       "German Pilsener                         22146\n",
       "Doppelbock                              21695\n",
       "Winter Warmer                           20656\n",
       "Dubbel                                  19979\n",
       "English Brown Ale                       19528\n",
       "Belgian Pale Ale                        19350\n",
       "Oatmeal Stout                           18140\n",
       "Quadrupel (Quad)                        18084\n",
       "Euro Pale Lager                         18005\n",
       "American Wild Ale                       17794\n",
       "Scotch Ale / Wee Heavy                  17438\n",
       "Extra Special / Strong Bitter (ESB)     17206\n",
       "English India Pale Ale (IPA)            15955\n",
       "Pumpkin Ale                             15548\n",
       "Old Ale                                 14701\n",
       "Light Lager                             14308\n",
       "English Barleywine                      13730\n",
       "Milk / Sweet Stout                      13166\n",
       "Name: beer_style, dtype: int64"
      ]
     },
     "execution_count": 22,
     "metadata": {},
     "output_type": "execute_result"
    }
   ],
   "source": [
    "df_cleaned['beer_style'].value_counts()"
   ]
  },
  {
   "cell_type": "code",
   "execution_count": 23,
   "metadata": {},
   "outputs": [
    {
     "name": "stdout",
     "output_type": "stream",
     "text": [
      "   brewery_id  brewery_name  review_time  review_overall  review_aroma  \\\n",
      "0       10325          5438   1234817823             1.5           2.0   \n",
      "1       10325          5438   1235915097             3.0           2.5   \n",
      "2       10325          5438   1235916604             3.0           2.5   \n",
      "3       10325          5438   1234725145             3.0           3.0   \n",
      "4        1075          1480   1293735206             4.0           4.5   \n",
      "\n",
      "   review_appearance  review_profilename  beer_style  review_palate  \\\n",
      "0                2.5               30566          26            1.5   \n",
      "1                3.0               30566          40            3.0   \n",
      "2                3.0               30566          40            3.0   \n",
      "3                3.5               30566          25            2.5   \n",
      "4                4.0               23008           4            4.0   \n",
      "\n",
      "   review_taste  beer_name  beer_abv  beer_beerid  \n",
      "0           1.5      44417       5.0        47986  \n",
      "1           3.0      41729       6.2        48213  \n",
      "2           3.0       6886       6.5        48215  \n",
      "3           3.0      44416       5.0        47969  \n",
      "4           4.5      11358       7.7        64883  \n"
     ]
    }
   ],
   "source": [
    "#Label Encode Categorical Variables (including target variable)\n",
    "\n",
    "# Import label encoder \n",
    "from sklearn import preprocessing\n",
    "\n",
    "# label_encoder object knows how to understand word labels. \n",
    "label_encoder = preprocessing.LabelEncoder()\n",
    "\n",
    "cat_cols = ['brewery_name', 'review_profilename', 'beer_name', 'beer_style']\n",
    "\n",
    "# Encode labels in target column 'beer_style'. \n",
    "df_cleaned['brewery_name']= label_encoder.fit_transform(df_cleaned['brewery_name'])\n",
    "df_cleaned['review_profilename']= label_encoder.fit_transform(df_cleaned['review_profilename'])\n",
    "df_cleaned['beer_name']= label_encoder.fit_transform(df_cleaned['beer_name'])\n",
    "df_cleaned['beer_style']= label_encoder.fit_transform(df_cleaned['beer_style'])\n",
    "print(df_cleaned.head())"
   ]
  },
  {
   "cell_type": "code",
   "execution_count": 24,
   "metadata": {},
   "outputs": [],
   "source": [
    "# Import StandardScaler from sklearn.preprocessing and instantiate the StandardScaler\n",
    "from sklearn.preprocessing import StandardScaler\n",
    "\n",
    "sc=StandardScaler()"
   ]
  },
  {
   "cell_type": "code",
   "execution_count": 25,
   "metadata": {},
   "outputs": [],
   "source": [
    "#create a variable called num_cols including numerical features\n",
    "num_cols = ['brewery_id', 'review_time','review_overall', 'review_aroma', 'review_appearance','review_palate','review_taste','beer_abv','beer_beerid']"
   ]
  },
  {
   "cell_type": "code",
   "execution_count": 26,
   "metadata": {},
   "outputs": [],
   "source": [
    "# Fit and apply the scaling on data_cleaned\n",
    "df_cleaned[num_cols]=sc.fit_transform(df_cleaned[num_cols])"
   ]
  },
  {
   "cell_type": "code",
   "execution_count": 27,
   "metadata": {},
   "outputs": [
    {
     "data": {
      "text/plain": [
       "['../models/scaler_dropped_NN.joblib']"
      ]
     },
     "execution_count": 27,
     "metadata": {},
     "output_type": "execute_result"
    }
   ],
   "source": [
    "# Import dump from joblib and save the scaler into the folder models and call the file scaler.joblib\n",
    "from joblib import dump\n",
    "\n",
    "dump(sc, '../models/scaler_dropped_NN.joblib')"
   ]
  },
  {
   "cell_type": "code",
   "execution_count": 28,
   "metadata": {},
   "outputs": [],
   "source": [
    "%load_ext autoreload\n",
    "%autoreload 2"
   ]
  },
  {
   "cell_type": "code",
   "execution_count": 29,
   "metadata": {},
   "outputs": [],
   "source": [
    "# Import function scaler_split_train_test from data.sets and split into training, validation and test datasets\n",
    "\n",
    "import sys\n",
    "sys.path.insert(1, '..')\n",
    "\n",
    "from src.data.sets import split_sets_random\n",
    "\n",
    "X_train, y_train, X_val, y_val, X_test, y_test = split_sets_random(df_cleaned, target_col='beer_style', test_ratio=0.2)"
   ]
  },
  {
   "cell_type": "code",
   "execution_count": 30,
   "metadata": {},
   "outputs": [],
   "source": [
    "# Import the function save_sets from sets and save the sets into the folder data/processed\n",
    "from src.data.sets import save_sets\n",
    "save_sets(X_train, y_train, X_val, y_val,X_test, y_test, path='../data/processed/beer_type')"
   ]
  },
  {
   "cell_type": "code",
   "execution_count": 31,
   "metadata": {},
   "outputs": [],
   "source": [
    "# Import the function load_sets from sets and load the sets from data/processed\n",
    "\n",
    "\n",
    "from src.data.sets import load_sets\n",
    "X_train, y_train, X_val, y_val, X_test, y_test = load_sets(path='../data/processed/beer_type')\n"
   ]
  },
  {
   "attachments": {},
   "cell_type": "markdown",
   "metadata": {},
   "source": [
    "### Baseline Model"
   ]
  },
  {
   "cell_type": "code",
   "execution_count": 32,
   "metadata": {},
   "outputs": [],
   "source": [
    "#Import NullModel from src.models.null\n",
    "from src.models.null import NullModel"
   ]
  },
  {
   "cell_type": "code",
   "execution_count": 33,
   "metadata": {},
   "outputs": [],
   "source": [
    "# Instantiate a NullModel and call .fit_predict() on the training target to extract your predictions into a variable called y_base\n",
    "baseline_model = NullModel()\n"
   ]
  },
  {
   "cell_type": "code",
   "execution_count": 34,
   "metadata": {},
   "outputs": [
    {
     "name": "stderr",
     "output_type": "stream",
     "text": [
      "c:\\Users\\chant\\OneDrive\\Desktop\\Advanced DS for Innovation\\Projects\\Beer_Type_Prediction\\notebooks\\..\\src\\models\\null.py:43: FutureWarning: Unlike other reduction functions (e.g. `skew`, `kurtosis`), the default behavior of `mode` typically preserves the axis it acts along. In SciPy 1.11.0, this behavior will change: the default value of `keepdims` will become False, the `axis` over which the statistic is taken will be eliminated, and the value None will no longer be accepted. Set `keepdims` to True or False to avoid this warning.\n",
      "  self.pred_value = mode(y)[0][0]\n"
     ]
    }
   ],
   "source": [
    "baseline_model = NullModel(target_type='classification')\n",
    "\n",
    "y_base = baseline_model.fit_predict(y_train)"
   ]
  },
  {
   "cell_type": "code",
   "execution_count": 35,
   "metadata": {},
   "outputs": [],
   "source": [
    "#Import print_reg_perf from src.models.performance\n",
    "\n",
    "from src.models.performance import print_class_perf\n"
   ]
  },
  {
   "cell_type": "code",
   "execution_count": 36,
   "metadata": {},
   "outputs": [
    {
     "name": "stdout",
     "output_type": "stream",
     "text": [
      "Accuracy Training: 0.23169214604675598\n"
     ]
    }
   ],
   "source": [
    "#Print the classification metrics for this baseline model\n",
    "\n",
    "print_class_perf(y_preds=y_base, y_actuals=y_train, set_name='Training', average='weighted')\n"
   ]
  }
 ],
 "metadata": {
  "kernelspec": {
   "display_name": "Python 3.8.10 64-bit (microsoft store)",
   "language": "python",
   "name": "python3"
  },
  "language_info": {
   "codemirror_mode": {
    "name": "ipython",
    "version": 3
   },
   "file_extension": ".py",
   "mimetype": "text/x-python",
   "name": "python",
   "nbconvert_exporter": "python",
   "pygments_lexer": "ipython3",
   "version": "3.8.10"
  },
  "orig_nbformat": 4,
  "vscode": {
   "interpreter": {
    "hash": "93e5285b5ee05b08152baf054ff49b5b3546c84ca307065b8c0361b70cc13ad6"
   }
  }
 },
 "nbformat": 4,
 "nbformat_minor": 2
}
